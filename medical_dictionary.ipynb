{
  "nbformat": 4,
  "nbformat_minor": 0,
  "metadata": {
    "colab": {
      "name": "medical_dictionary.ipynb",
      "version": "0.3.2",
      "provenance": [],
      "collapsed_sections": [],
      "include_colab_link": true
    },
    "kernelspec": {
      "name": "python3",
      "display_name": "Python 3"
    }
  },
  "cells": [
    {
      "cell_type": "markdown",
      "metadata": {
        "id": "view-in-github",
        "colab_type": "text"
      },
      "source": [
        "<a href=\"https://colab.research.google.com/github/linnabraham/bits/blob/master/medical_dictionary.ipynb\" target=\"_parent\"><img src=\"https://colab.research.google.com/assets/colab-badge.svg\" alt=\"Open In Colab\"/></a>"
      ]
    },
    {
      "metadata": {
        "id": "0SsY4EnrLjwS",
        "colab_type": "code",
        "colab": {}
      },
      "cell_type": "code",
      "source": [
        "# import required libraries\n",
        "\n",
        "import urllib\n",
        "from bs4 import BeautifulSoup\n",
        "import requests\n",
        "import json"
      ],
      "execution_count": 0,
      "outputs": []
    },
    {
      "metadata": {
        "id": "lG-gTxuo9Rah",
        "colab_type": "text"
      },
      "cell_type": "markdown",
      "source": [
        "### Scrape contents from the medicinenet website"
      ]
    },
    {
      "metadata": {
        "id": "qbcwIkhrLevb",
        "colab_type": "code",
        "outputId": "119af083-1381-43c3-ea6c-6218aa01e7b9",
        "colab": {
          "base_uri": "https://localhost:8080/",
          "height": 403
        }
      },
      "cell_type": "code",
      "source": [
        "# code for automated web scraping\n",
        "\n",
        "#homepage url\n",
        "url = 'https://www.medicinenet.com/medterms-medical-dictionary/article.htm'\n",
        "\n",
        "corpus = {}\n",
        "limit = 20 \n",
        "\n",
        "page_response = requests.get(url)\n",
        "soup = BeautifulSoup(page_response.content, 'html5lib') \n",
        "tags = soup('a')\n",
        "counter = 0 \n",
        "for tag in tags:\n",
        "  \n",
        "  link = tag.get('href', None)\n",
        "\n",
        "\n",
        "  #alphabet url\n",
        "  alpha = 'https://www.medicinenet.com/script/main/alphaidx.asp?p='\n",
        "  \n",
        "  if not(link is None) and link.startswith(alpha):\n",
        "    page_response = requests.get(link)\n",
        "    soup = BeautifulSoup(page_response.content, 'html5lib')\n",
        "    tags = soup('a')\n",
        "\n",
        "    for tag in tags:\n",
        "      if counter > limit:\n",
        "        break\n",
        "      link = tag.get('href', None)\n",
        "      \n",
        "      # main article url\n",
        "      article = 'https://www.medicinenet.com/script/main/art.asp?articlekey'\n",
        "      if not(link is None) and link.startswith(article):\n",
        "\n",
        "        URL = link\n",
        "        page_response = requests.get(URL)\n",
        "        soup = BeautifulSoup(page_response.content, 'html5lib') \n",
        "\n",
        "        divtag = soup.find(class_='apPage')\n",
        "\n",
        "        if not(divtag is None):\n",
        "          counter += 1\n",
        "\n",
        "          ptag= divtag.find('p')\n",
        "\n",
        "          content=ptag.contents\n",
        "          atag = ptag.find('a')\n",
        "\n",
        "  \n",
        "          words = []\n",
        "          for string in ptag.strings:\n",
        "            words.append(string)\n",
        "\n",
        "          definition = ''.join(words[1:])\n",
        "\n",
        "          btag = ptag.find('b')\n",
        "          identifier = str(btag.contents[0])\n",
        "          corpus[identifier] = definition\n",
        "          print('added element')\n",
        "    break     "
      ],
      "execution_count": 0,
      "outputs": [
        {
          "output_type": "stream",
          "text": [
            "added element\n",
            "added element\n",
            "added element\n",
            "added element\n",
            "added element\n",
            "added element\n",
            "added element\n",
            "added element\n",
            "added element\n",
            "added element\n",
            "added element\n",
            "added element\n",
            "added element\n",
            "added element\n",
            "added element\n",
            "added element\n",
            "added element\n",
            "added element\n",
            "added element\n",
            "added element\n",
            "added element\n"
          ],
          "name": "stdout"
        }
      ]
    },
    {
      "metadata": {
        "id": "fevkZA2EWS8E",
        "colab_type": "code",
        "colab": {}
      },
      "cell_type": "code",
      "source": [
        "corpusM = corpus"
      ],
      "execution_count": 0,
      "outputs": []
    },
    {
      "metadata": {
        "id": "ThmHOSdb9XdF",
        "colab_type": "text"
      },
      "cell_type": "markdown",
      "source": [
        "### Scrape contents from the rxlist website"
      ]
    },
    {
      "metadata": {
        "id": "GY5ynFUvR2v7",
        "colab_type": "code",
        "outputId": "23be5d55-f7cd-4e90-a245-94be688833d2",
        "colab": {
          "base_uri": "https://localhost:8080/",
          "height": 403
        }
      },
      "cell_type": "code",
      "source": [
        "# code for automated web scraping\n",
        "\n",
        "#homepage url\n",
        "url = 'https://www.rxlist.com/drug-medical-dictionary/article.htm'\n",
        "corpus = {}\n",
        "limit = 20 \n",
        "\n",
        "page_response = requests.get(url)\n",
        "soup = BeautifulSoup(page_response.content, 'html5lib') \n",
        "tags = soup('a')\n",
        "counter = 0 \n",
        "for tag in tags:\n",
        "  \n",
        "  link = tag.get('href', None)\n",
        "\n",
        "\n",
        "  #alphabet url\n",
        "  alpha = 'https://www.rxlist.com/script/main/alphaidx.asp?p='\n",
        "  \n",
        "  if not(link is None) and link.startswith(alpha):\n",
        "    page_response = requests.get(link)\n",
        "    soup = BeautifulSoup(page_response.content, 'html5lib')\n",
        "    tags = soup('a')\n",
        "\n",
        "    for tag in tags:\n",
        "      if counter > limit:\n",
        "        #pass\n",
        "        break\n",
        "      link = tag.get('href', None)\n",
        "      \n",
        "      # main article url\n",
        "      article = 'https://www.medicinenet.com/script/main/art.asp?articlekey'\n",
        "      if not(link is None) and link.startswith(article):\n",
        "\n",
        "        URL = link\n",
        "        page_response = requests.get(URL)\n",
        "        soup = BeautifulSoup(page_response.content, 'html5lib') \n",
        "\n",
        "        divtag = soup.find(class_='apPage')\n",
        "\n",
        "        if not(divtag is None):\n",
        "          counter += 1\n",
        "\n",
        "          ptag= divtag.find('p')\n",
        "\n",
        "          if not(ptag is None):\n",
        "            content=ptag.contents\n",
        "            atag = ptag.find('a')\n",
        "\n",
        "\n",
        "            words = []\n",
        "            for string in ptag.strings:\n",
        "              words.append(string)\n",
        "\n",
        "            definition = ''.join(words[1:])\n",
        "\n",
        "            btag = ptag.find('b')\n",
        "            identifier = str(btag.contents[0])\n",
        "            corpus[identifier] = definition\n",
        "            print('added element',counter)            \n",
        "    break     "
      ],
      "execution_count": 0,
      "outputs": [
        {
          "output_type": "stream",
          "text": [
            "added element 1\n",
            "added element 2\n",
            "added element 3\n",
            "added element 4\n",
            "added element 5\n",
            "added element 6\n",
            "added element 7\n",
            "added element 8\n",
            "added element 9\n",
            "added element 10\n",
            "added element 11\n",
            "added element 12\n",
            "added element 13\n",
            "added element 14\n",
            "added element 15\n",
            "added element 16\n",
            "added element 17\n",
            "added element 18\n",
            "added element 19\n",
            "added element 20\n",
            "added element 21\n"
          ],
          "name": "stdout"
        }
      ]
    },
    {
      "metadata": {
        "id": "oefI0Gkd7iUy",
        "colab_type": "code",
        "outputId": "ecb306d7-7e20-49d4-ff35-2dfc8859d95b",
        "colab": {
          "base_uri": "https://localhost:8080/",
          "height": 35
        }
      },
      "cell_type": "code",
      "source": [
        "corpus == corpusM"
      ],
      "execution_count": 0,
      "outputs": [
        {
          "output_type": "execute_result",
          "data": {
            "text/plain": [
              "True"
            ]
          },
          "metadata": {
            "tags": []
          },
          "execution_count": 5
        }
      ]
    },
    {
      "metadata": {
        "id": "21aPXFI37qrm",
        "colab_type": "code",
        "outputId": "6be5f9c7-2bc7-4078-aae3-b8001ff79b47",
        "colab": {
          "base_uri": "https://localhost:8080/",
          "height": 423
        }
      },
      "cell_type": "code",
      "source": [
        "corpus"
      ],
      "execution_count": 0,
      "outputs": [
        {
          "output_type": "execute_result",
          "data": {
            "text/plain": [
              "{'A (adenine):': ' In genetics, A stands for adenine, one member of the A-T (adenine-thymine) base pair in DNA. The other base pair in DNA is G-C (guanine-cytosine).\\n',\n",
              " 'A-:': ' Prefix indicating the absence or depletion of something: for example, aphagia (not eating) or aphonia (voiceless). The related prefix an- is usually used before a vowel, as in anemia (without blood) and anoxia (without oxygen).',\n",
              " 'A-T:': ' Ataxia-telangiectasia.',\n",
              " 'AAA:': ' Abdominal aortic aneurysm.',\n",
              " 'AAAS:': ' Spoken of as the \"triple-AS\", the American \\nAssociation for the Advancement of Science is an organization \\nconcerned not only with\\nthe biomedical sciences but with all of the sciences. The AAAS \\npublishes the weekly journal\\n\"Science\", one of the great scientific periodicals. \\n\"Science\" carries a remarkable\\nrange of new scientific information including, for example, findings \\nfrom the Apollo mission to Mars\\nas well as reports from the project to map the human genome.',\n",
              " 'AAD:': ' American Association of Dermatology, one  of many important professional societies in the health arena. The AMA (the American Medical Association) is a better known example in the US.  \\n',\n",
              " 'AAFP (American Academy of Family Physicians):': ' The AAFP is a professional   society for American family doctors.                                                         \\n                            ',\n",
              " 'AAMC (Ass Am Medical Colleges):': ' Founded in 1876 and based in Washington, D.C., the Association of American Medical Colleges (AAMC) is a not-for-profit association representing all 136 accredited U.S. and 17 accredited Canadian medical schools; nearly 400 major teaching hospitals and health systems, including 62 Department of Veterans Affairs medical centers; and 93 academic and scientific societies. Through these institutions and organizations, the AAMC represents 128,000 faculty members, 75,000 medical students, and 110,000 resident physicians. ',\n",
              " 'AANAT:': \" The synbol for the enzyme arylalkylamine N-acetyltransferase and for the gene that encodes it. AANAT is present in animals, bacteria and yeast but in no other living organisms. AANAT belongs to the large superfamily of acetyltransferase enzymes. AANAT is used to make melatonin, a hormone that regulates the body's cycles of sleeping and waking.\",\n",
              " 'AAO:': ' 1. Alert and oriented.\\n2. American Association of Ophthalmology, a professional organization. \\n3. American Academy of Otolaryngology, a professional organization.\\n4. American Association of Orthodontists, a professional organization.\\n5. Amino acid oxidase, an enzyme.',\n",
              " 'AAOS (American Academy of Orthopaedic Surgeons):': ' The professional organization of American orthopedists. Literally, the practice of bone straightening, orthopedics is the branch of surgery that is broadly concerned with the skeletal system (bones).',\n",
              " 'AAP:': ' The American Academy of Pediatrics.',\n",
              " 'Aarskog syndrome:': ' See: Aarskog-Scott syndrome.',\n",
              " 'Aarskog-Scott syndrome:': ' A syndrome of wide spaced eyes (ocular hypertelorism), front-facing (anteverted) nostrils, a broad upper lip, a malformed (\"saddle-bag\") scrotum, and laxity of the ligaments resulting in bending back of the knees (genu recurvatum), flat feet, and overly extensible fingers. There are X-linked and autosomal forms of the disease. The gene for the X-linked form has been mapped to chromosome band Xp11.21 and identified as the FGD1 gene.',\n",
              " 'Aase-Smith syndrome I:': ' A syndrome of congenital malformations (birth defects) characterized by hydrocephalus, cleft palate, and severe arthrogryposis (joint contractures). Other anomalies may include deformed ears, ptosis (drooping) of the eyelids, inability to open the mouth fully, heart defects, and clubfoot. The fingers are thin with absent knuckles, reduced creases over the joints and inability to make a full fist.\\n',\n",
              " 'Aase-Smith syndrome II:': ' A genetic disorder that may be detected during early infancy and is characterized by the presence of three bones (phalanges) within the thumbs (triphalangeal thumbs) rather than the normal two and abnormally reduced production of red blood cells (hypoplastic anemia). ',\n",
              " 'Ab ovo:': ' Latin expression for \"from the beginning.\" Ab ovo literally means \"from the egg.\"',\n",
              " 'Ab-:': ' Prefix indicating from, away from, or off, as in abduction (movement of a limb away from the midline of the body) and abnormal (away from normal).',\n",
              " 'Abate:': ' To lessen or decrease. For example, after a boil is lanced, the pus can drain and the pain and tenderness abate. From the French abbatre, to beat down.',\n",
              " 'a-:': ' See: A-.',\n",
              " 'a.c.:': ' Abbreviation on a prescription meaning before meals; from the Latin \"ante cibum\", before meals. This is one of a number of abbreviations of Latin terms that have traditionally been used in writing prescriptions.'}"
            ]
          },
          "metadata": {
            "tags": []
          },
          "execution_count": 6
        }
      ]
    },
    {
      "metadata": {
        "id": "-gvCljuSxw2z",
        "colab_type": "text"
      },
      "cell_type": "markdown",
      "source": [
        "### Code for webscraping the drugs list dictionary"
      ]
    },
    {
      "metadata": {
        "id": "B2WZP9BQhKjM",
        "colab_type": "code",
        "colab": {}
      },
      "cell_type": "code",
      "source": [
        "url = 'https://www.rxlist.com/a-methapred-drug.htm#description'\n",
        "response = requests.get(url)\n",
        "soup = BeautifulSoup(response.content,'html5lib')\n",
        "#section = soup.find_all(class_='pageSection')\n",
        "#print(len(section))\n",
        "\n",
        "#for child in soup.body.main.section.article.section.div.div.h3.find_next_siblings():\n",
        "  #print(type(child))"
      ],
      "execution_count": 0,
      "outputs": []
    },
    {
      "metadata": {
        "id": "ISl2B-xZFSKr",
        "colab_type": "code",
        "outputId": "d98cef6e-4d4d-420b-cb26-02b5c8ad5f69",
        "colab": {
          "base_uri": "https://localhost:8080/",
          "height": 72
        }
      },
      "cell_type": "code",
      "source": [
        "baseurl = 'https://www.rxlist.com/drugs/alpha_'\n",
        "container = [{}]\n",
        "limit = 2\n",
        "counter = 0\n",
        "\n",
        "fo=open('drugsdata.json','w')\n",
        "fo.close()\n",
        "\n",
        "# loop over [a-z]\n",
        "for i in range(ord('a'),ord('z')+1):\n",
        "  # execute the loop for 'z'\n",
        "  #if not(i==(ord('z'))):\n",
        "  #  continue\n",
        "\n",
        "  url = baseurl+chr(i)+'.htm'\n",
        "  page_response = requests.get(url)\n",
        "  soup = BeautifulSoup(page_response.content, 'html5lib') \n",
        "  divtag = soup.find(class_='AZ_results')\n",
        "  linktags = divtag('li')\n",
        "  \n",
        "  #open a json file in append mode to write each entry to disk\n",
        "  with open('drugsdata.json','a') as outfile:\n",
        "    #loop over each article entry\n",
        "    for tag in linktags:\n",
        "      if counter > limit: \n",
        "        break  #comment out to remove execution limit\n",
        "      atag = tag.find('a')\n",
        "      identifier = str(atag.contents)\n",
        "      link = atag.get('href', None)\n",
        "      response = requests.get(link)\n",
        "      soup = BeautifulSoup(response.content,'html5lib')\n",
        "\n",
        "      #loop over all text paragraphs appearing after the description heading\n",
        "      words = []\n",
        "\n",
        "      try:\n",
        "        texttag = soup.body.main.section.article.section.div.div.h3.find_next_siblings()\n",
        "      except:\n",
        "        continue\n",
        "        \n",
        "      for child in texttag:\n",
        "        for string in child.strings:\n",
        "          words.append(string)\n",
        "      definition = str(''.join(words))\n",
        "      #print(type(definition), len(definition))\n",
        "      container[0][identifier] = definition\n",
        "      #json.dump(container,outfile)\n",
        "      #json.dump({identifier:definition}, outfile)\n",
        "      print(\"write element\", counter)\n",
        "      counter += 1\n",
        "    #json.dump(container,outfile)\n",
        "    break #comment out to remove execution limit\n"
      ],
      "execution_count": 2,
      "outputs": [
        {
          "output_type": "stream",
          "text": [
            "write element 0\n",
            "write element 1\n",
            "write element 2\n"
          ],
          "name": "stdout"
        }
      ]
    },
    {
      "metadata": {
        "id": "Ajmb8g-JLrP8",
        "colab_type": "code",
        "outputId": "e7bbbace-a334-408a-9c3e-55b3b8f5386b",
        "colab": {
          "base_uri": "https://localhost:8080/",
          "height": 92
        }
      },
      "cell_type": "code",
      "source": [
        "container"
      ],
      "execution_count": 3,
      "outputs": [
        {
          "output_type": "execute_result",
          "data": {
            "text/plain": [
              "[{\"['A-Methapred (Methylprednisolone Sodium Succinate)']\": 'A-Methapred (methylprednisolone sodium succinate for injection, USP) sterile \\n  powder contains methylprednisolone sodium succinate as the active ingredient. \\n  Methylprednisolone sodium succinate, USP, occurs as a white, or nearly white, \\n  odorless hygroscopic, amorphous solid. It is very soluble in water and in alcohol; \\n  it is insoluble in chloroform and is very slightly soluble in acetone. The chemical name for methylprednisolone sodium succinate is pregna-1,4-diene-3,20-dione,21-(3-carboxy-1-oxo-propoxy)-11,17-dihydroxy-6-methyl-monosodium \\n  salt, (6a, 11ß), and the molecular weight is 496.53. The structural formula is represented below:\\n\\n  \\n      \\n  \\n\\n Methylprednisolone sodium succinate is so extremely soluble in water that \\n  it may be administered in a small volume of diluent and is especially well suited \\n  for intravenous use in situations in which high blood levels of methylprednisolone \\n  are required rapidly. A-Methapred (methylprednisolone sodium succinate)  is available in several strengths and packages for intravenous \\n  or intramuscular administration. 40 mg Single-Dose Vial- Each mL (when mixed) contains methylprednisolone \\n  sodium succinate equivalent to 40 mg methylprednisolone; also 1.6 mg monobasic \\n  sodium phosphate anhydrous; 17.46 mg dibasic sodium phosphate anhydrous; 25 \\n  mg lactose anhydrous; 8.8 mg benzyl alcohol added as preservative.125 mg Single-Dose Vial- Each 2 mL (when mixed) contains methylprednisolone \\n  sodium succinate equivalent to 125 mg methylprednisolone; also 1.6 mg monobasic \\n  sodium phosphate anhydrous; 17.4 mg dibasic sodium phosphate anhydrous; 17.6 \\n  mg benzyl alcohol added as preservative.  When necessary, the pH of each formula was adjusted with sodium hydroxide \\n  so that the pH of the reconstituted solution is within the USP specified range \\n  of 7 to 8 and the tonicities are, for the 40 mg per mL solution, 0.50 osmolar; \\n  for the 125 mg per 2 mL, 0.40 osmolar; (Isotonic saline = 0.28 osmolar). IMPORTANT- Use only Bacteriostatic Water For Injection with Benzyl Alcohol \\n  when reconstituting A-Methapred (methylprednisolone sodium succinate) .Use within 48 hours after mixing. ',\n",
              "  \"['Aalimumab-adaz Injection (Hyrimoz)']\": 'HYRIMOZ (adalimumab-adaz) is a recombinant human IgG1 monoclonal antibody specific for human tumor\\nnecrosis factor (TNF). HYRIMOZ is an antibody with human derived heavy and light chain variable regions and\\nhuman IgG1:k constant regions. Adalimumab-adaz is produced by recombinant DNA technology in a Chinese\\nhamster ovary cell expression system and is purified by a process that includes specific viral inactivation and\\nremoval steps. It consists of 1330 amino acids and has a molecular weight of approximately 148 kilodaltons.HYRIMOZ is supplied as a sterile, preservative-free solution of adalimumab-adaz for subcutaneous\\nadministration. The drug product is supplied as either a single-dose, pre-filled pen (Sensoready® Pen) or as a\\nsingle-dose, pre-filled 1 mL glass syringe with needle guard and add-on finger flange. Enclosed within the Pen is\\na single-dose, 1 mL pre-filled glass syringe. The solution of HYRIMOZ is clear, colorless to slightly yellowish,\\nwith a pH of about 5.2.Each 40 mg/0.8 mL HYRIMOZ single-dose pre-filled Sensoready® Pen or HYRIMOZ single-dose pre-filled\\nsyringe delivers 0.8 mL (40 mg) of drug product. Each 0.8 mL of HYRIMOZ contains adalimumab-adaz 40 mg,\\nadipic acid (2.69 mg), citric acid monohydrate (0.206 mg), mannitol (9.6 mg), polysorbate 80 (0.8 mg), sodium\\nchloride (4.93 mg), and Water for Injection, USP. Hydrochloric acid and sodium hydroxide are added as necessary\\nto adjust pH.',\n",
              "  \"['Abacavir and Lamivudine Film-coated Tablets (Kivexa)']\": 'List Of ExcipientsTablet Coremagnesium stearate\\nmicrocrystalline cellulose\\nsodium starch glycollateTablet CoatingOpadry Orange YS-1-13065-A contains:\\n\\thypromellose\\n\\ttitanium dioxide\\n\\tmacrogol 400\\n\\tpolysorbate 80\\n\\tsunset yellow FCF aluminium lake.\\n\\tPhysicochemical PropertiesThe chemical name of abacavir sulfate is (1S,cis)-4-[2-amino-6-(cyclopropylamino)-9H-purin-9-yl]-2-cyclopentene-1-methanol sulfate (salt) (2:1). Abacavir sulfate is the enantiomer with 1S, 4R absolute configuration on the cyclopentene ring. It has a molecular formula of (C14H18N6O)2•H2SO4 and a molecular weight of 670.76 daltons.The chemical name of lamivudine is (2R,cis)-4-amino-1-[2- (hydroxymethyl)-1,3-oxathiolan-5-yl]-2(1H)-pyrimidinone. Lamivudine is the (-)enantiomer of a dideoxy analogue of cytidine. Lamivudine has also been referred to as (-)2’,3’-dideoxy, 3’-thiacytidine. It has a molecular formula of C8H11N3O3S and a molecular weight of 229.3 daltons.Chemical StructureAbacavir sulfate has the following structural formula:\\n  \\n    \\n  \\n\\nLamivudine has the following structural formula:\\n  \\n    \\n  \\n\\nCAS Number188062-50-2 (abacavir sulfate); 134678-17-4 (lamivudine)'}]"
            ]
          },
          "metadata": {
            "tags": []
          },
          "execution_count": 3
        }
      ]
    },
    {
      "metadata": {
        "id": "6UO2BZsWJTvg",
        "colab_type": "code",
        "colab": {}
      },
      "cell_type": "code",
      "source": [
        "#filename=\"drugsdata.json\"\n",
        "#with open(filename, 'r') as f:\n",
        "  #datastore = json.load(f)"
      ],
      "execution_count": 0,
      "outputs": []
    },
    {
      "metadata": {
        "id": "QZOQKckQdSWr",
        "colab_type": "code",
        "colab": {}
      },
      "cell_type": "code",
      "source": [
        "!cat drugsdata.json"
      ],
      "execution_count": 0,
      "outputs": []
    },
    {
      "metadata": {
        "id": "31vT2pi4MPli",
        "colab_type": "code",
        "colab": {}
      },
      "cell_type": "code",
      "source": [
        ""
      ],
      "execution_count": 0,
      "outputs": []
    },
    {
      "metadata": {
        "id": "9LDgL2quLJSv",
        "colab_type": "code",
        "colab": {}
      },
      "cell_type": "code",
      "source": [
        ""
      ],
      "execution_count": 0,
      "outputs": []
    }
  ]
}