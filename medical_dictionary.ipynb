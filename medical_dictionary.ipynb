{
  "nbformat": 4,
  "nbformat_minor": 0,
  "metadata": {
    "colab": {
      "name": "medical_dictionary.ipynb",
      "version": "0.3.2",
      "provenance": [],
      "include_colab_link": true
    },
    "kernelspec": {
      "name": "python3",
      "display_name": "Python 3"
    }
  },
  "cells": [
    {
      "cell_type": "markdown",
      "metadata": {
        "id": "view-in-github",
        "colab_type": "text"
      },
      "source": [
        "<a href=\"https://colab.research.google.com/github/linnabraham/bits/blob/master/medical_dictionary.ipynb\" target=\"_parent\"><img src=\"https://colab.research.google.com/assets/colab-badge.svg\" alt=\"Open In Colab\"/></a>"
      ]
    },
    {
      "metadata": {
        "id": "0SsY4EnrLjwS",
        "colab_type": "code",
        "colab": {}
      },
      "cell_type": "code",
      "source": [
        "import urllib\n",
        "\n",
        "from bs4 import BeautifulSoup\n",
        "\n",
        "import requests"
      ],
      "execution_count": 0,
      "outputs": []
    },
    {
      "metadata": {
        "id": "ofspnax1ZWkC",
        "colab_type": "code",
        "colab": {
          "base_uri": "https://localhost:8080/",
          "height": 54
        },
        "outputId": "f2abf56b-c076-40bb-fcec-15136d814851"
      },
      "cell_type": "code",
      "source": [
        "URL = 'https://www.medicinenet.com/script/main/art.asp?articlekey=2095'\n",
        "\n",
        "\n",
        "page_response = requests.get(URL)\n",
        "soup = BeautifulSoup(page_response.content, 'html5lib') \n",
        "\n",
        "divtag = soup.find(class_='apPage')\n",
        "ptag= divtag.find('p')\n",
        "\n",
        "content=ptag.contents\n",
        "\n",
        "tar = str(content[1])\n",
        "print(tar)"
      ],
      "execution_count": 2,
      "outputs": [
        {
          "output_type": "stream",
          "text": [
            " An abrasion or \"excoriation\" is a wearing away of the upper layer of skin as a result of applied friction force.  In dentistry an \"abrasion\" is the wearing away of the tooth substance.\n"
          ],
          "name": "stdout"
        }
      ]
    },
    {
      "metadata": {
        "id": "qbcwIkhrLevb",
        "colab_type": "code",
        "colab": {
          "base_uri": "https://localhost:8080/",
          "height": 208
        },
        "outputId": "77cca4ed-cb69-4ccf-ed05-050dad8999e1"
      },
      "cell_type": "code",
      "source": [
        "url = 'https://www.medicinenet.com/medterms-medical-dictionary/article.htm'\n",
        "corpus = {}\n",
        "page_response = requests.get(url)\n",
        "soup = BeautifulSoup(page_response.content, 'html5lib') \n",
        "tags = soup('a')\n",
        "counter = 0 \n",
        "for tag in tags:\n",
        "  \n",
        "  if counter > 10:\n",
        "    break\n",
        "  else:\n",
        "    link = tag.get('href', None)\n",
        "    #print(type(linked))\n",
        "    #print(link)\n",
        "\n",
        "\n",
        "    if not(link is None) and link.startswith('https://www.medicinenet.com/script/main/alphaidx.asp?p='):\n",
        "      #print(link)\n",
        "      page_response = requests.get(link)\n",
        "      soup = BeautifulSoup(page_response.content, 'html5lib')\n",
        "      tags = soup('a')\n",
        "      for tag in tags:\n",
        "        if counter > 10:\n",
        "          break\n",
        "        link = tag.get('href', None)\n",
        "        if not(link is None) and link.startswith('https://www.medicinenet.com/script/main/art.asp?articlekey'):\n",
        "          URL = link\n",
        "          page_response = requests.get(URL)\n",
        "          soup = BeautifulSoup(page_response.content, 'html5lib') \n",
        "\n",
        "          divtag = soup.find(class_='apPage')\n",
        "          \n",
        "          if not(divtag is None):\n",
        "            counter += 1\n",
        "\n",
        "            ptag= divtag.find('p')\n",
        "\n",
        "            content=ptag.contents\n",
        "            atag = ptag.find('a')\n",
        "\n",
        "            definition = str(content[1])\n",
        "\n",
        "            btag = ptag.find('b')\n",
        "            identifier = str(btag.contents[0])\n",
        "            corpus[identifier] = definition\n",
        "            print('added element')"
      ],
      "execution_count": 3,
      "outputs": [
        {
          "output_type": "stream",
          "text": [
            "added element\n",
            "added element\n",
            "added element\n",
            "added element\n",
            "added element\n",
            "added element\n",
            "added element\n",
            "added element\n",
            "added element\n",
            "added element\n",
            "added element\n"
          ],
          "name": "stdout"
        }
      ]
    },
    {
      "metadata": {
        "id": "fevkZA2EWS8E",
        "colab_type": "code",
        "colab": {
          "base_uri": "https://localhost:8080/",
          "height": 228
        },
        "outputId": "34aa33f9-ae57-485c-c41e-ce191e9b4d86"
      },
      "cell_type": "code",
      "source": [
        "corpus"
      ],
      "execution_count": 4,
      "outputs": [
        {
          "output_type": "execute_result",
          "data": {
            "text/plain": [
              "{'A (adenine):': ' In ',\n",
              " 'A-:': ' Prefix indicating the absence or depletion of something: for example, aphagia (not eating) or aphonia (voiceless). The related prefix an- is usually used before a vowel, as in ',\n",
              " 'A-T:': ' ',\n",
              " 'AAA:': ' ',\n",
              " 'AAAS:': ' Spoken of as the \"triple-AS\", the American \\nAssociation for the Advancement of Science is an organization \\nconcerned not only with\\nthe biomedical sciences but with all of the sciences. The AAAS \\npublishes the weekly journal\\n\"Science\", one of the great scientific periodicals. \\n\"Science\" carries a remarkable\\nrange of new scientific information including, for example, findings \\nfrom the Apollo mission to Mars\\nas well as reports from the project to map the human genome.',\n",
              " 'AAD:': ' ',\n",
              " 'AAFP (American Academy of Family Physicians):': ' The AAFP is a professional   society for American family doctors.                                                         \\n                            ',\n",
              " 'AAMC (Ass Am Medical Colleges):': ' Founded in 1876 and based in Washington, D.C., the ',\n",
              " 'AANAT:': ' The synbol for the enzyme ',\n",
              " 'a-:': ' See: ',\n",
              " 'a.c.:': ' Abbreviation on a '}"
            ]
          },
          "metadata": {
            "tags": []
          },
          "execution_count": 4
        }
      ]
    }
  ]
}