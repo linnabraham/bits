{
  "nbformat": 4,
  "nbformat_minor": 0,
  "metadata": {
    "colab": {
      "name": "medical_dictionary.ipynb",
      "version": "0.3.2",
      "provenance": [],
      "collapsed_sections": [],
      "include_colab_link": true
    },
    "kernelspec": {
      "name": "python3",
      "display_name": "Python 3"
    }
  },
  "cells": [
    {
      "cell_type": "markdown",
      "metadata": {
        "id": "view-in-github",
        "colab_type": "text"
      },
      "source": [
        "<a href=\"https://colab.research.google.com/github/linnabraham/bits/blob/master/medical_dictionary.ipynb\" target=\"_parent\"><img src=\"https://colab.research.google.com/assets/colab-badge.svg\" alt=\"Open In Colab\"/></a>"
      ]
    },
    {
      "metadata": {
        "id": "0SsY4EnrLjwS",
        "colab_type": "code",
        "colab": {}
      },
      "cell_type": "code",
      "source": [
        "# import required libraries\n",
        "\n",
        "import urllib\n",
        "from bs4 import BeautifulSoup\n",
        "import requests"
      ],
      "execution_count": 0,
      "outputs": []
    },
    {
      "metadata": {
        "id": "lG-gTxuo9Rah",
        "colab_type": "text"
      },
      "cell_type": "markdown",
      "source": [
        "### Scrape contents from the medicinenet website"
      ]
    },
    {
      "metadata": {
        "id": "qbcwIkhrLevb",
        "colab_type": "code",
        "outputId": "5689b710-906b-4974-ae04-19a722b1c2ff",
        "colab": {
          "base_uri": "https://localhost:8080/",
          "height": 394
        }
      },
      "cell_type": "code",
      "source": [
        "# code for automated web scraping\n",
        "\n",
        "#homepage url\n",
        "url = 'https://www.medicinenet.com/medterms-medical-dictionary/article.htm'\n",
        "\n",
        "corpus = {}\n",
        "limit = 20 \n",
        "\n",
        "page_response = requests.get(url)\n",
        "soup = BeautifulSoup(page_response.content, 'html5lib') \n",
        "tags = soup('a')\n",
        "counter = 0 \n",
        "for tag in tags:\n",
        "  \n",
        "  link = tag.get('href', None)\n",
        "\n",
        "\n",
        "  #alphabet url\n",
        "  alpha = 'https://www.medicinenet.com/script/main/alphaidx.asp?p='\n",
        "  \n",
        "  if not(link is None) and link.startswith(alpha):\n",
        "    page_response = requests.get(link)\n",
        "    soup = BeautifulSoup(page_response.content, 'html5lib')\n",
        "    tags = soup('a')\n",
        "\n",
        "    for tag in tags:\n",
        "      if counter > limit:\n",
        "        break\n",
        "      link = tag.get('href', None)\n",
        "      \n",
        "      # main article url\n",
        "      article = 'https://www.medicinenet.com/script/main/art.asp?articlekey'\n",
        "      if not(link is None) and link.startswith(article):\n",
        "\n",
        "        URL = link\n",
        "        page_response = requests.get(URL)\n",
        "        soup = BeautifulSoup(page_response.content, 'html5lib') \n",
        "\n",
        "        divtag = soup.find(class_='apPage')\n",
        "\n",
        "        if not(divtag is None):\n",
        "          counter += 1\n",
        "\n",
        "          ptag= divtag.find('p')\n",
        "\n",
        "          content=ptag.contents\n",
        "          atag = ptag.find('a')\n",
        "\n",
        "  \n",
        "          words = []\n",
        "          for string in ptag.strings:\n",
        "            words.append(string)\n",
        "\n",
        "          definition = ''.join(words[1:])\n",
        "\n",
        "          btag = ptag.find('b')\n",
        "          identifier = str(btag.contents[0])\n",
        "          corpus[identifier] = definition\n",
        "          print('added element')\n",
        "    break     "
      ],
      "execution_count": 2,
      "outputs": [
        {
          "output_type": "stream",
          "text": [
            "added element\n",
            "added element\n",
            "added element\n",
            "added element\n",
            "added element\n",
            "added element\n",
            "added element\n",
            "added element\n",
            "added element\n",
            "added element\n",
            "added element\n",
            "added element\n",
            "added element\n",
            "added element\n",
            "added element\n",
            "added element\n",
            "added element\n",
            "added element\n",
            "added element\n",
            "added element\n",
            "added element\n"
          ],
          "name": "stdout"
        }
      ]
    },
    {
      "metadata": {
        "id": "fevkZA2EWS8E",
        "colab_type": "code",
        "colab": {}
      },
      "cell_type": "code",
      "source": [
        "corpusM = corpus"
      ],
      "execution_count": 0,
      "outputs": []
    },
    {
      "metadata": {
        "id": "ThmHOSdb9XdF",
        "colab_type": "text"
      },
      "cell_type": "markdown",
      "source": [
        "### Scrape contents from the rxlist website"
      ]
    },
    {
      "metadata": {
        "id": "GY5ynFUvR2v7",
        "colab_type": "code",
        "colab": {
          "base_uri": "https://localhost:8080/",
          "height": 394
        },
        "outputId": "eb5ff2f4-99bd-435c-deda-6107c9b584fa"
      },
      "cell_type": "code",
      "source": [
        "# code for automated web scraping\n",
        "\n",
        "#homepage url\n",
        "url = 'https://www.rxlist.com/drug-medical-dictionary/article.htm'\n",
        "corpus = {}\n",
        "limit = 20 \n",
        "\n",
        "page_response = requests.get(url)\n",
        "soup = BeautifulSoup(page_response.content, 'html5lib') \n",
        "tags = soup('a')\n",
        "counter = 0 \n",
        "for tag in tags:\n",
        "  \n",
        "  link = tag.get('href', None)\n",
        "\n",
        "\n",
        "  #alphabet url\n",
        "  alpha = 'https://www.rxlist.com/script/main/alphaidx.asp?p='\n",
        "  \n",
        "  if not(link is None) and link.startswith(alpha):\n",
        "    page_response = requests.get(link)\n",
        "    soup = BeautifulSoup(page_response.content, 'html5lib')\n",
        "    tags = soup('a')\n",
        "\n",
        "    for tag in tags:\n",
        "      if counter > limit:\n",
        "        #pass\n",
        "        break\n",
        "      link = tag.get('href', None)\n",
        "      \n",
        "      # main article url\n",
        "      article = 'https://www.medicinenet.com/script/main/art.asp?articlekey'\n",
        "      if not(link is None) and link.startswith(article):\n",
        "\n",
        "        URL = link\n",
        "        page_response = requests.get(URL)\n",
        "        soup = BeautifulSoup(page_response.content, 'html5lib') \n",
        "\n",
        "        divtag = soup.find(class_='apPage')\n",
        "\n",
        "        if not(divtag is None):\n",
        "          counter += 1\n",
        "\n",
        "          ptag= divtag.find('p')\n",
        "\n",
        "          if not(ptag is None):\n",
        "            content=ptag.contents\n",
        "            atag = ptag.find('a')\n",
        "\n",
        "\n",
        "            words = []\n",
        "            for string in ptag.strings:\n",
        "              words.append(string)\n",
        "\n",
        "            definition = ''.join(words[1:])\n",
        "\n",
        "            btag = ptag.find('b')\n",
        "            identifier = str(btag.contents[0])\n",
        "            corpus[identifier] = definition\n",
        "            print('added element',counter)            \n",
        "    break     "
      ],
      "execution_count": 4,
      "outputs": [
        {
          "output_type": "stream",
          "text": [
            "added element 1\n",
            "added element 2\n",
            "added element 3\n",
            "added element 4\n",
            "added element 5\n",
            "added element 6\n",
            "added element 7\n",
            "added element 8\n",
            "added element 9\n",
            "added element 10\n",
            "added element 11\n",
            "added element 12\n",
            "added element 13\n",
            "added element 14\n",
            "added element 15\n",
            "added element 16\n",
            "added element 17\n",
            "added element 18\n",
            "added element 19\n",
            "added element 20\n",
            "added element 21\n"
          ],
          "name": "stdout"
        }
      ]
    },
    {
      "metadata": {
        "id": "oefI0Gkd7iUy",
        "colab_type": "code",
        "outputId": "dd4917d8-932f-4e09-d5c1-d8af79c2f03c",
        "colab": {
          "base_uri": "https://localhost:8080/",
          "height": 35
        }
      },
      "cell_type": "code",
      "source": [
        "corpus == corpusM"
      ],
      "execution_count": 5,
      "outputs": [
        {
          "output_type": "execute_result",
          "data": {
            "text/plain": [
              "True"
            ]
          },
          "metadata": {
            "tags": []
          },
          "execution_count": 5
        }
      ]
    },
    {
      "metadata": {
        "id": "21aPXFI37qrm",
        "colab_type": "code",
        "outputId": "06b4103e-b3e3-45b1-c055-26e2f27cbb0c",
        "colab": {
          "base_uri": "https://localhost:8080/",
          "height": 414
        }
      },
      "cell_type": "code",
      "source": [
        "corpus"
      ],
      "execution_count": 6,
      "outputs": [
        {
          "output_type": "execute_result",
          "data": {
            "text/plain": [
              "{'A (adenine):': ' In genetics, A stands for adenine, one member of the A-T (adenine-thymine) base pair in DNA. The other base pair in DNA is G-C (guanine-cytosine).\\n',\n",
              " 'A-:': ' Prefix indicating the absence or depletion of something: for example, aphagia (not eating) or aphonia (voiceless). The related prefix an- is usually used before a vowel, as in anemia (without blood) and anoxia (without oxygen).',\n",
              " 'A-T:': ' Ataxia-telangiectasia.',\n",
              " 'AAA:': ' Abdominal aortic aneurysm.',\n",
              " 'AAAS:': ' Spoken of as the \"triple-AS\", the American \\nAssociation for the Advancement of Science is an organization \\nconcerned not only with\\nthe biomedical sciences but with all of the sciences. The AAAS \\npublishes the weekly journal\\n\"Science\", one of the great scientific periodicals. \\n\"Science\" carries a remarkable\\nrange of new scientific information including, for example, findings \\nfrom the Apollo mission to Mars\\nas well as reports from the project to map the human genome.',\n",
              " 'AAD:': ' American Association of Dermatology, one  of many important professional societies in the health arena. The AMA (the American Medical Association) is a better known example in the US.  \\n',\n",
              " 'AAFP (American Academy of Family Physicians):': ' The AAFP is a professional   society for American family doctors.                                                         \\n                            ',\n",
              " 'AAMC (Ass Am Medical Colleges):': ' Founded in 1876 and based in Washington, D.C., the Association of American Medical Colleges (AAMC) is a not-for-profit association representing all 136 accredited U.S. and 17 accredited Canadian medical schools; nearly 400 major teaching hospitals and health systems, including 62 Department of Veterans Affairs medical centers; and 93 academic and scientific societies. Through these institutions and organizations, the AAMC represents 128,000 faculty members, 75,000 medical students, and 110,000 resident physicians. ',\n",
              " 'AANAT:': \" The synbol for the enzyme arylalkylamine N-acetyltransferase and for the gene that encodes it. AANAT is present in animals, bacteria and yeast but in no other living organisms. AANAT belongs to the large superfamily of acetyltransferase enzymes. AANAT is used to make melatonin, a hormone that regulates the body's cycles of sleeping and waking.\",\n",
              " 'AAO:': ' 1. Alert and oriented.\\n2. American Association of Ophthalmology, a professional organization. \\n3. American Academy of Otolaryngology, a professional organization.\\n4. American Association of Orthodontists, a professional organization.\\n5. Amino acid oxidase, an enzyme.',\n",
              " 'AAOS (American Academy of Orthopaedic Surgeons):': ' The professional organization of American orthopedists. Literally, the practice of bone straightening, orthopedics is the branch of surgery that is broadly concerned with the skeletal system (bones).',\n",
              " 'AAP:': ' The American Academy of Pediatrics.',\n",
              " 'Aarskog syndrome:': ' See: Aarskog-Scott syndrome.',\n",
              " 'Aarskog-Scott syndrome:': ' A syndrome of wide spaced eyes (ocular hypertelorism), front-facing (anteverted) nostrils, a broad upper lip, a malformed (\"saddle-bag\") scrotum, and laxity of the ligaments resulting in bending back of the knees (genu recurvatum), flat feet, and overly extensible fingers. There are X-linked and autosomal forms of the disease. The gene for the X-linked form has been mapped to chromosome band Xp11.21 and identified as the FGD1 gene.',\n",
              " 'Aase-Smith syndrome I:': ' A syndrome of congenital malformations (birth defects) characterized by hydrocephalus, cleft palate, and severe arthrogryposis (joint contractures). Other anomalies may include deformed ears, ptosis (drooping) of the eyelids, inability to open the mouth fully, heart defects, and clubfoot. The fingers are thin with absent knuckles, reduced creases over the joints and inability to make a full fist.\\n',\n",
              " 'Aase-Smith syndrome II:': ' A genetic disorder that may be detected during early infancy and is characterized by the presence of three bones (phalanges) within the thumbs (triphalangeal thumbs) rather than the normal two and abnormally reduced production of red blood cells (hypoplastic anemia). ',\n",
              " 'Ab ovo:': ' Latin expression for \"from the beginning.\" Ab ovo literally means \"from the egg.\"',\n",
              " 'Ab-:': ' Prefix indicating from, away from, or off, as in abduction (movement of a limb away from the midline of the body) and abnormal (away from normal).',\n",
              " 'Abate:': ' To lessen or decrease. For example, after a boil is lanced, the pus can drain and the pain and tenderness abate. From the French abbatre, to beat down.',\n",
              " 'a-:': ' See: A-.',\n",
              " 'a.c.:': ' Abbreviation on a prescription meaning before meals; from the Latin \"ante cibum\", before meals. This is one of a number of abbreviations of Latin terms that have traditionally been used in writing prescriptions.'}"
            ]
          },
          "metadata": {
            "tags": []
          },
          "execution_count": 6
        }
      ]
    },
    {
      "metadata": {
        "id": "UicPSBizPfns",
        "colab_type": "code",
        "colab": {}
      },
      "cell_type": "code",
      "source": [
        ""
      ],
      "execution_count": 0,
      "outputs": []
    }
  ]
}