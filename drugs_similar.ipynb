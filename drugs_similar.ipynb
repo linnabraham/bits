{
  "nbformat": 4,
  "nbformat_minor": 0,
  "metadata": {
    "colab": {
      "name": "drugs_similar.ipynb",
      "version": "0.3.2",
      "provenance": []
    },
    "kernelspec": {
      "name": "python3",
      "display_name": "Python 3"
    }
  },
  "cells": [
    {
      "metadata": {
        "id": "mPZCWNlKP5e0",
        "colab_type": "text"
      },
      "cell_type": "markdown",
      "source": [
        "### Obtaining list of drugs with relationships between trade names and generic names stated"
      ]
    },
    {
      "metadata": {
        "id": "nBD8DsSQKezc",
        "colab_type": "code",
        "colab": {}
      },
      "cell_type": "code",
      "source": [
        "# import required libraries\n",
        "\n",
        "import urllib\n",
        "from bs4 import BeautifulSoup\n",
        "import requests\n",
        "import json"
      ],
      "execution_count": 0,
      "outputs": []
    },
    {
      "metadata": {
        "id": "tprYNsZpKgSl",
        "colab_type": "code",
        "colab": {}
      },
      "cell_type": "code",
      "source": [
        "url = 'https://medlineplus.gov/druginfo/drug_Pa.html'\n",
        "page_response = requests.get(url)\n",
        "soup = BeautifulSoup(page_response.content, 'html5lib') "
      ],
      "execution_count": 0,
      "outputs": []
    },
    {
      "metadata": {
        "id": "75y377ttLNme",
        "colab_type": "code",
        "colab": {}
      },
      "cell_type": "code",
      "source": [
        "divtag = soup.find(id='index')"
      ],
      "execution_count": 0,
      "outputs": []
    },
    {
      "metadata": {
        "id": "M5v4NNI8LctX",
        "colab_type": "code",
        "colab": {
          "base_uri": "https://localhost:8080/",
          "height": 935
        },
        "outputId": "041924c5-c111-48f1-f268-bbc85ebe7d93"
      },
      "cell_type": "code",
      "source": [
        "for element in divtag.find_all('li')[:50]:\n",
        "  words = []\n",
        "  for string in element.strings:\n",
        "    words.append(string)\n",
        "  sentence = ''.join(words)\n",
        "  print(sentence)"
      ],
      "execution_count": 19,
      "outputs": [
        {
          "output_type": "stream",
          "text": [
            "p-Hydroxyampicillinsee Amoxicillin\n",
            "P&S® Shampoosee Salicylic Acid Topical\n",
            "Pacaps® (as a combination product containing Acetaminophen, Butalbital, Caffeine)see Acetaminophen, Butalbital, and Caffeine\n",
            "Pacerone®see Amiodarone\n",
            "Paclitaxel (with albumin) Injection\n",
            "Paclitaxel (with polyoxyethylated castor oil) Injection\n",
            "Pacnex®see Benzoyl Peroxide Topical\n",
            "Pain-Eze®see Acetaminophen\n",
            "Palbociclib\n",
            "Palifermin\n",
            "Paliperidone\n",
            "Paliperidone Injection\n",
            "Palivizumab Injection\n",
            "Palonosetron Injection\n",
            "Palynziq®see Pegvaliase-pqpz Injection\n",
            "Pamelor®see Nortriptyline\n",
            "Pamidronate Injection\n",
            "Pamprin® (as a combination product containing Acetaminophen, Pamabrom, Pyrilamine)see Acetaminophen\n",
            "Panacet® (as a combination product containing Acetaminophen, Hydrocodone)see Hydrocodone Combination Products\n",
            "Panacet® (as a combination product containing Acetaminophen, Hydrocodone)see Acetaminophen\n",
            "Panadol®see Acetaminophen\n",
            "Panasal® (as a combination product containing Aspirin, Hydrocodone)see Hydrocodone Combination Products\n",
            "Panasal® (as a combination product containing Aspirin, Hydrocodone)see Aspirin\n",
            "Panatuss® DXP (as a combination product containing Dexbrompheniramine, Dextromethorphan, Phenylephrine)see Brompheniramine\n",
            "Pancreaze®see Pancrelipase\n",
            "Pancrelipase\n",
            "Pandel®see Hydrocortisone Topical\n",
            "Panex®see Acetaminophen\n",
            "Panheparin®see Heparin Injection\n",
            "Panitumumab Injection\n",
            "Panixine® Disperdosesee Cephalexin\n",
            "Panlor® (as a combination product containing Acetaminophen, Hydrocodone)see Hydrocodone Combination Products\n",
            "Panlor® (as a combination product containing Acetaminophen, Hydrocodone)see Acetaminophen\n",
            "Panobinostat\n",
            "PanOxyl®see Benzoyl Peroxide Topical\n",
            "Panretin®see Alitretinoin\n",
            "Panritis Forte® (as a combination product containing Acetaminophen, Salicylamide)see Acetaminophen\n",
            "Pantoprazole\n",
            "Papa-deine® (#3, #4) (as a combination product containing Acetaminophen, Codeine)see Acetaminophen and Codeine\n",
            "Papaverine\n",
            "Paracetamolsee Acetaminophen Injection\n",
            "Paracetamolsee Acetaminophen\n",
            "Paraflex®see Chlorzoxazone\n",
            "Parafon Forte® DSCsee Chlorzoxazone\n",
            "Paramol®see Acetaminophen\n",
            "Paraplatin®see Carboplatin Injection\n",
            "Parasitol®see Pyrantel\n",
            "Parathar®see Teriparatide (rDNA origin) Injection\n",
            "Parathyroid Hormone Injection\n",
            "Parcopa®see Levodopa and Carbidopa\n"
          ],
          "name": "stdout"
        }
      ]
    },
    {
      "metadata": {
        "id": "2wOFhD5YLeRP",
        "colab_type": "code",
        "colab": {}
      },
      "cell_type": "code",
      "source": [
        ""
      ],
      "execution_count": 0,
      "outputs": []
    }
  ]
}